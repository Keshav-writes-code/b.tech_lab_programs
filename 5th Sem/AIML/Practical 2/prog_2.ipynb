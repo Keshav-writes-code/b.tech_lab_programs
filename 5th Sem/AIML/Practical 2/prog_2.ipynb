{
 "cells": [
  {
   "cell_type": "code",
   "execution_count": 1,
   "metadata": {},
   "outputs": [],
   "source": [
    "import heapq"
   ]
  },
  {
   "cell_type": "code",
   "execution_count": 7,
   "metadata": {},
   "outputs": [],
   "source": [
    "def astart(start, goal, h, graph):\n",
    "  open_set = []\n",
    "  heapq.heappush(open_set, (0+h[start], start))\n",
    "  came_from = {}\n",
    "  g_score = { node: float('inf') for node in graph}\n",
    "  g_score[start] = 0\n",
    "  f_score = { node: float('inf') for node in graph}\n",
    "  f_score = h[start]\n",
    "\n",
    "  while open_set:\n",
    "    curr = heapq.heappop(open_set)[1]\n",
    "    if curr == goal:\n",
    "      path = []\n",
    "      while curr in came_from:\n",
    "        path.append(curr)\n",
    "        curr = came_from[curr]\n",
    "    path.append(start)\n",
    "    path.reverse()\n",
    "    return path"
   ]
  },
  {
   "cell_type": "code",
   "execution_count": null,
   "metadata": {},
   "outputs": [],
   "source": []
  }
 ],
 "metadata": {
  "kernelspec": {
   "display_name": ".venv",
   "language": "python",
   "name": "python3"
  },
  "language_info": {
   "codemirror_mode": {
    "name": "ipython",
    "version": 3
   },
   "file_extension": ".py",
   "mimetype": "text/x-python",
   "name": "python",
   "nbconvert_exporter": "python",
   "pygments_lexer": "ipython3",
   "version": "3.11.2"
  }
 },
 "nbformat": 4,
 "nbformat_minor": 2
}
