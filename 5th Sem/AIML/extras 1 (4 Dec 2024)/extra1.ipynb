{
 "cells": [
  {
   "cell_type": "code",
   "execution_count": null,
   "metadata": {},
   "outputs": [],
   "source": [
    "import sqlite3 as sql\n",
    "import pandas as pd\n",
    "\n",
    "con = sql.connect('test.db')\n",
    "cur = con.cursor()\n",
    "cur.execute(''' CREATE TABLE songs(\n",
    "  id INTEGER PRIMARY KEY,\n",
    "  title TEXT NOT NULL,\n",
    "  artist TEXT NOT NULL,\n",
    "  audio_url TEXT\n",
    ")''')"
   ]
  },
  {
   "cell_type": "code",
   "execution_count": 6,
   "metadata": {},
   "outputs": [
    {
     "data": {
      "text/plain": [
       "<sqlite3.Cursor at 0x7f0c82288bc0>"
      ]
     },
     "execution_count": 6,
     "metadata": {},
     "output_type": "execute_result"
    }
   ],
   "source": [
    "cur.execute(''' Insert into songs (title, artist, audio_url) values ('Dancing in the Dark', 'The Weeknd', 'https://www.youtube.com/watch?v=Z7tWJY-8bYU')''')\n",
    "cur.execute(''' Insert into songs (title, artist, audio_url) values ('Hymn for the weekend', 'Coldplay', 'https://www.youtube.com/watch?v=YykjpeuMNEk')''')"
   ]
  },
  {
   "cell_type": "code",
   "execution_count": 7,
   "metadata": {},
   "outputs": [],
   "source": [
    "cur.execute(''' select * from songs''')\n",
    "data= cur.fetchall()"
   ]
  },
  {
   "cell_type": "code",
   "execution_count": null,
   "metadata": {},
   "outputs": [
    {
     "name": "stdout",
     "output_type": "stream",
     "text": [
      "[(1, 'Dancing in the Dark', 'The Weeknd', 'https://www.youtube.com/watch?v=Z7tWJY-8bYU'), (2, 'Hymn for the weekend', 'Coldplay', 'https://www.youtube.com/watch?v=YykjpeuMNEk')]\n"
     ]
    }
   ],
   "source": []
  },
  {
   "cell_type": "code",
   "execution_count": null,
   "metadata": {},
   "outputs": [],
   "source": []
  }
 ],
 "metadata": {
  "kernelspec": {
   "display_name": ".venv",
   "language": "python",
   "name": "python3"
  },
  "language_info": {
   "codemirror_mode": {
    "name": "ipython",
    "version": 3
   },
   "file_extension": ".py",
   "mimetype": "text/x-python",
   "name": "python",
   "nbconvert_exporter": "python",
   "pygments_lexer": "ipython3",
   "version": "3.11.2"
  }
 },
 "nbformat": 4,
 "nbformat_minor": 2
}
