{
 "cells": [
  {
   "cell_type": "markdown",
   "id": "7b4cc423",
   "metadata": {},
   "source": [
    "### Algorithm Outline:\n",
    "- Start with the initial node.\n",
    "- Push the node to a priority queue (or heap), prioritized by the heuristic value.\n",
    "- Pop the node with the lowest heuristic value.\n",
    "- Expand the node (generate its neighbors).\n",
    "- If the goal is found, stop.\n",
    "- If not, add the neighbors to the queue and repeat."
   ]
  },
  {
   "cell_type": "code",
   "execution_count": 13,
   "id": "820c27d5",
   "metadata": {},
   "outputs": [
    {
     "name": "stdout",
     "output_type": "stream",
     "text": [
      "Visiting node: A, Heuristic: 10\n",
      "Visiting node: C, Heuristic: 5\n",
      "Visiting node: E, Heuristic: 3\n",
      "Visiting node: F, Heuristic: 0\n",
      "Goal F reached!\n",
      "Comparing A and B\n",
      "False\n"
     ]
    }
   ],
   "source": [
    "import heapq\n",
    "\n",
    "class Node:\n",
    "    def __init__(self, name, heuristic):\n",
    "        self.name = name  # name of the node (e.g., city)\n",
    "        self.heuristic = heuristic  # h(n): heuristic value for this node\n",
    "        self.neighbors = []  # List of (neighbor_node, edge_cost) pairs\n",
    "    \n",
    "    def add_neighbor(self, neighbor, cost=1):\n",
    "        \"\"\"Add a neighbor with the given cost\"\"\"\n",
    "        self.neighbors.append((neighbor, cost))\n",
    "\n",
    "    def __lt__(self, other):\n",
    "        \"\"\"Less than comparison for priority queue based on heuristic value\"\"\"\n",
    "        print(f\"Comparing {self.name} and {other.name}\")\n",
    "        return self.heuristic < other.heuristic\n",
    "\n",
    "def greedy_best_first_search(start_node, goal_node):\n",
    "    open_list = []\n",
    "    visited = set()\n",
    "\n",
    "    # Initialize the open list (priority queue) with the start node\n",
    "    heapq.heappush(open_list, (start_node.heuristic, start_node))\n",
    "\n",
    "    while open_list:\n",
    "        # Pop the node with the lowest heuristic value\n",
    "        current_heuristic, current_node = heapq.heappop(open_list)\n",
    "        \n",
    "        print(f\"Visiting node: {current_node.name}, Heuristic: {current_node.heuristic}\")\n",
    "        \n",
    "        # Check if we have reached the goal\n",
    "        if current_node == goal_node:\n",
    "            print(f\"Goal {goal_node.name} reached!\")\n",
    "            return True\n",
    "        \n",
    "        visited.add(current_node)\n",
    "\n",
    "        # Expand neighbors\n",
    "        for neighbor, cost in current_node.neighbors:\n",
    "            if neighbor not in visited:\n",
    "                # Push neighbors to the priority queue based on their heuristic value\n",
    "                heapq.heappush(open_list, (neighbor.heuristic, neighbor))\n",
    "\n",
    "    print(\"Goal not reachable.\")\n",
    "    return False\n",
    "\n",
    "# Example: Setting up the graph\n",
    "# Creating nodes with heuristic values\n",
    "a = Node(\"A\", 10)\n",
    "b = Node(\"B\", 8)\n",
    "c = Node(\"C\", 5)\n",
    "d = Node(\"D\", 7)\n",
    "e = Node(\"E\", 3)\n",
    "f = Node(\"F\", 0)  # Goal node\n",
    "\n",
    "# Adding neighbors (edges between nodes)\n",
    "a.add_neighbor(b)\n",
    "a.add_neighbor(c)\n",
    "b.add_neighbor(d)\n",
    "c.add_neighbor(e)\n",
    "d.add_neighbor(f)\n",
    "e.add_neighbor(f)\n",
    "\n",
    "# Running Greedy Best-First Search from node 'A' to goal 'F'\n",
    "greedy_best_first_search(a, f)\n",
    "print(a<b)\n"
   ]
  },
  {
   "cell_type": "code",
   "execution_count": null,
   "id": "568fc170",
   "metadata": {},
   "outputs": [],
   "source": []
  }
 ],
 "metadata": {
  "kernelspec": {
   "display_name": ".venv",
   "language": "python",
   "name": "python3"
  },
  "language_info": {
   "codemirror_mode": {
    "name": "ipython",
    "version": 3
   },
   "file_extension": ".py",
   "mimetype": "text/x-python",
   "name": "python",
   "nbconvert_exporter": "python",
   "pygments_lexer": "ipython3",
   "version": "3.11.2"
  }
 },
 "nbformat": 4,
 "nbformat_minor": 5
}
